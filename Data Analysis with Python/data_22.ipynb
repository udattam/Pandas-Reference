{
 "cells": [
  {
   "cell_type": "markdown",
   "metadata": {},
   "source": [
    "# Duplicate"
   ]
  },
  {
   "cell_type": "code",
   "execution_count": 1,
   "metadata": {},
   "outputs": [],
   "source": [
    "import  pandas as pd"
   ]
  },
  {
   "cell_type": "code",
   "execution_count": 2,
   "metadata": {},
   "outputs": [],
   "source": [
    "user_cols=['user_id','age','gender','occupation','zip_code']\n",
    "users=pd.read_table('http://bit.ly/movieusers',sep='|',header=None,names=user_cols,index_col='user_id')"
   ]
  },
  {
   "cell_type": "code",
   "execution_count": 3,
   "metadata": {},
   "outputs": [
    {
     "output_type": "execute_result",
     "data": {
      "text/plain": "         age gender  occupation zip_code\nuser_id                                 \n1         24      M  technician    85711\n2         53      F       other    94043\n3         23      M      writer    32067\n4         24      M  technician    43537\n5         33      F       other    15213",
      "text/html": "<div>\n<style scoped>\n    .dataframe tbody tr th:only-of-type {\n        vertical-align: middle;\n    }\n\n    .dataframe tbody tr th {\n        vertical-align: top;\n    }\n\n    .dataframe thead th {\n        text-align: right;\n    }\n</style>\n<table border=\"1\" class=\"dataframe\">\n  <thead>\n    <tr style=\"text-align: right;\">\n      <th></th>\n      <th>age</th>\n      <th>gender</th>\n      <th>occupation</th>\n      <th>zip_code</th>\n    </tr>\n    <tr>\n      <th>user_id</th>\n      <th></th>\n      <th></th>\n      <th></th>\n      <th></th>\n    </tr>\n  </thead>\n  <tbody>\n    <tr>\n      <th>1</th>\n      <td>24</td>\n      <td>M</td>\n      <td>technician</td>\n      <td>85711</td>\n    </tr>\n    <tr>\n      <th>2</th>\n      <td>53</td>\n      <td>F</td>\n      <td>other</td>\n      <td>94043</td>\n    </tr>\n    <tr>\n      <th>3</th>\n      <td>23</td>\n      <td>M</td>\n      <td>writer</td>\n      <td>32067</td>\n    </tr>\n    <tr>\n      <th>4</th>\n      <td>24</td>\n      <td>M</td>\n      <td>technician</td>\n      <td>43537</td>\n    </tr>\n    <tr>\n      <th>5</th>\n      <td>33</td>\n      <td>F</td>\n      <td>other</td>\n      <td>15213</td>\n    </tr>\n  </tbody>\n</table>\n</div>"
     },
     "metadata": {},
     "execution_count": 3
    }
   ],
   "source": [
    "users.head()"
   ]
  },
  {
   "cell_type": "code",
   "execution_count": 4,
   "metadata": {},
   "outputs": [
    {
     "output_type": "execute_result",
     "data": {
      "text/plain": "(943, 4)"
     },
     "metadata": {},
     "execution_count": 4
    }
   ],
   "source": [
    "users.shape"
   ]
  },
  {
   "cell_type": "code",
   "execution_count": 5,
   "metadata": {},
   "outputs": [
    {
     "output_type": "execute_result",
     "data": {
      "text/plain": "user_id\n1      False\n2      False\n3      False\n4      False\n5      False\n       ...  \n939    False\n940     True\n941    False\n942    False\n943    False\nName: zip_code, Length: 943, dtype: bool"
     },
     "metadata": {},
     "execution_count": 5
    }
   ],
   "source": [
    "users.zip_code.duplicated()"
   ]
  },
  {
   "cell_type": "code",
   "execution_count": 6,
   "metadata": {},
   "outputs": [
    {
     "output_type": "execute_result",
     "data": {
      "text/plain": "148"
     },
     "metadata": {},
     "execution_count": 6
    }
   ],
   "source": [
    "users.zip_code.duplicated().sum()"
   ]
  },
  {
   "cell_type": "code",
   "execution_count": 7,
   "metadata": {},
   "outputs": [
    {
     "output_type": "execute_result",
     "data": {
      "text/plain": "user_id\n1      False\n2      False\n3      False\n4      False\n5      False\n       ...  \n939    False\n940    False\n941    False\n942    False\n943    False\nLength: 943, dtype: bool"
     },
     "metadata": {},
     "execution_count": 7
    }
   ],
   "source": [
    "users.duplicated()"
   ]
  },
  {
   "cell_type": "code",
   "execution_count": 8,
   "metadata": {},
   "outputs": [
    {
     "output_type": "execute_result",
     "data": {
      "text/plain": "7"
     },
     "metadata": {},
     "execution_count": 8
    }
   ],
   "source": [
    "users.duplicated().sum()"
   ]
  },
  {
   "cell_type": "code",
   "execution_count": 9,
   "metadata": {},
   "outputs": [
    {
     "output_type": "execute_result",
     "data": {
      "text/plain": "         age gender occupation zip_code\nuser_id                                \n496       21      F    student    55414\n572       51      M   educator    20003\n621       17      M    student    60402\n684       28      M    student    55414\n733       44      F      other    60630\n805       27      F      other    20009\n890       32      M    student    97301",
      "text/html": "<div>\n<style scoped>\n    .dataframe tbody tr th:only-of-type {\n        vertical-align: middle;\n    }\n\n    .dataframe tbody tr th {\n        vertical-align: top;\n    }\n\n    .dataframe thead th {\n        text-align: right;\n    }\n</style>\n<table border=\"1\" class=\"dataframe\">\n  <thead>\n    <tr style=\"text-align: right;\">\n      <th></th>\n      <th>age</th>\n      <th>gender</th>\n      <th>occupation</th>\n      <th>zip_code</th>\n    </tr>\n    <tr>\n      <th>user_id</th>\n      <th></th>\n      <th></th>\n      <th></th>\n      <th></th>\n    </tr>\n  </thead>\n  <tbody>\n    <tr>\n      <th>496</th>\n      <td>21</td>\n      <td>F</td>\n      <td>student</td>\n      <td>55414</td>\n    </tr>\n    <tr>\n      <th>572</th>\n      <td>51</td>\n      <td>M</td>\n      <td>educator</td>\n      <td>20003</td>\n    </tr>\n    <tr>\n      <th>621</th>\n      <td>17</td>\n      <td>M</td>\n      <td>student</td>\n      <td>60402</td>\n    </tr>\n    <tr>\n      <th>684</th>\n      <td>28</td>\n      <td>M</td>\n      <td>student</td>\n      <td>55414</td>\n    </tr>\n    <tr>\n      <th>733</th>\n      <td>44</td>\n      <td>F</td>\n      <td>other</td>\n      <td>60630</td>\n    </tr>\n    <tr>\n      <th>805</th>\n      <td>27</td>\n      <td>F</td>\n      <td>other</td>\n      <td>20009</td>\n    </tr>\n    <tr>\n      <th>890</th>\n      <td>32</td>\n      <td>M</td>\n      <td>student</td>\n      <td>97301</td>\n    </tr>\n  </tbody>\n</table>\n</div>"
     },
     "metadata": {},
     "execution_count": 9
    }
   ],
   "source": [
    "users.loc[users.duplicated(keep='first')]"
   ]
  },
  {
   "cell_type": "code",
   "execution_count": 10,
   "metadata": {},
   "outputs": [
    {
     "output_type": "execute_result",
     "data": {
      "text/plain": "         age gender occupation zip_code\nuser_id                                \n67        17      M    student    60402\n85        51      M   educator    20003\n198       21      F    student    55414\n350       32      M    student    97301\n428       28      M    student    55414\n437       27      F      other    20009\n460       44      F      other    60630",
      "text/html": "<div>\n<style scoped>\n    .dataframe tbody tr th:only-of-type {\n        vertical-align: middle;\n    }\n\n    .dataframe tbody tr th {\n        vertical-align: top;\n    }\n\n    .dataframe thead th {\n        text-align: right;\n    }\n</style>\n<table border=\"1\" class=\"dataframe\">\n  <thead>\n    <tr style=\"text-align: right;\">\n      <th></th>\n      <th>age</th>\n      <th>gender</th>\n      <th>occupation</th>\n      <th>zip_code</th>\n    </tr>\n    <tr>\n      <th>user_id</th>\n      <th></th>\n      <th></th>\n      <th></th>\n      <th></th>\n    </tr>\n  </thead>\n  <tbody>\n    <tr>\n      <th>67</th>\n      <td>17</td>\n      <td>M</td>\n      <td>student</td>\n      <td>60402</td>\n    </tr>\n    <tr>\n      <th>85</th>\n      <td>51</td>\n      <td>M</td>\n      <td>educator</td>\n      <td>20003</td>\n    </tr>\n    <tr>\n      <th>198</th>\n      <td>21</td>\n      <td>F</td>\n      <td>student</td>\n      <td>55414</td>\n    </tr>\n    <tr>\n      <th>350</th>\n      <td>32</td>\n      <td>M</td>\n      <td>student</td>\n      <td>97301</td>\n    </tr>\n    <tr>\n      <th>428</th>\n      <td>28</td>\n      <td>M</td>\n      <td>student</td>\n      <td>55414</td>\n    </tr>\n    <tr>\n      <th>437</th>\n      <td>27</td>\n      <td>F</td>\n      <td>other</td>\n      <td>20009</td>\n    </tr>\n    <tr>\n      <th>460</th>\n      <td>44</td>\n      <td>F</td>\n      <td>other</td>\n      <td>60630</td>\n    </tr>\n  </tbody>\n</table>\n</div>"
     },
     "metadata": {},
     "execution_count": 10
    }
   ],
   "source": [
    "users.loc[users.duplicated(keep='last')]"
   ]
  },
  {
   "cell_type": "code",
   "execution_count": 11,
   "metadata": {},
   "outputs": [
    {
     "output_type": "execute_result",
     "data": {
      "text/plain": "         age gender occupation zip_code\nuser_id                                \n67        17      M    student    60402\n85        51      M   educator    20003\n198       21      F    student    55414\n350       32      M    student    97301\n428       28      M    student    55414\n437       27      F      other    20009\n460       44      F      other    60630\n496       21      F    student    55414\n572       51      M   educator    20003\n621       17      M    student    60402\n684       28      M    student    55414\n733       44      F      other    60630\n805       27      F      other    20009\n890       32      M    student    97301",
      "text/html": "<div>\n<style scoped>\n    .dataframe tbody tr th:only-of-type {\n        vertical-align: middle;\n    }\n\n    .dataframe tbody tr th {\n        vertical-align: top;\n    }\n\n    .dataframe thead th {\n        text-align: right;\n    }\n</style>\n<table border=\"1\" class=\"dataframe\">\n  <thead>\n    <tr style=\"text-align: right;\">\n      <th></th>\n      <th>age</th>\n      <th>gender</th>\n      <th>occupation</th>\n      <th>zip_code</th>\n    </tr>\n    <tr>\n      <th>user_id</th>\n      <th></th>\n      <th></th>\n      <th></th>\n      <th></th>\n    </tr>\n  </thead>\n  <tbody>\n    <tr>\n      <th>67</th>\n      <td>17</td>\n      <td>M</td>\n      <td>student</td>\n      <td>60402</td>\n    </tr>\n    <tr>\n      <th>85</th>\n      <td>51</td>\n      <td>M</td>\n      <td>educator</td>\n      <td>20003</td>\n    </tr>\n    <tr>\n      <th>198</th>\n      <td>21</td>\n      <td>F</td>\n      <td>student</td>\n      <td>55414</td>\n    </tr>\n    <tr>\n      <th>350</th>\n      <td>32</td>\n      <td>M</td>\n      <td>student</td>\n      <td>97301</td>\n    </tr>\n    <tr>\n      <th>428</th>\n      <td>28</td>\n      <td>M</td>\n      <td>student</td>\n      <td>55414</td>\n    </tr>\n    <tr>\n      <th>437</th>\n      <td>27</td>\n      <td>F</td>\n      <td>other</td>\n      <td>20009</td>\n    </tr>\n    <tr>\n      <th>460</th>\n      <td>44</td>\n      <td>F</td>\n      <td>other</td>\n      <td>60630</td>\n    </tr>\n    <tr>\n      <th>496</th>\n      <td>21</td>\n      <td>F</td>\n      <td>student</td>\n      <td>55414</td>\n    </tr>\n    <tr>\n      <th>572</th>\n      <td>51</td>\n      <td>M</td>\n      <td>educator</td>\n      <td>20003</td>\n    </tr>\n    <tr>\n      <th>621</th>\n      <td>17</td>\n      <td>M</td>\n      <td>student</td>\n      <td>60402</td>\n    </tr>\n    <tr>\n      <th>684</th>\n      <td>28</td>\n      <td>M</td>\n      <td>student</td>\n      <td>55414</td>\n    </tr>\n    <tr>\n      <th>733</th>\n      <td>44</td>\n      <td>F</td>\n      <td>other</td>\n      <td>60630</td>\n    </tr>\n    <tr>\n      <th>805</th>\n      <td>27</td>\n      <td>F</td>\n      <td>other</td>\n      <td>20009</td>\n    </tr>\n    <tr>\n      <th>890</th>\n      <td>32</td>\n      <td>M</td>\n      <td>student</td>\n      <td>97301</td>\n    </tr>\n  </tbody>\n</table>\n</div>"
     },
     "metadata": {},
     "execution_count": 11
    }
   ],
   "source": [
    "users.loc[users.duplicated(keep=False)]"
   ]
  },
  {
   "cell_type": "code",
   "execution_count": 12,
   "metadata": {},
   "outputs": [
    {
     "output_type": "execute_result",
     "data": {
      "text/plain": "(936, 4)"
     },
     "metadata": {},
     "execution_count": 12
    }
   ],
   "source": [
    "users.drop_duplicates(keep='first').shape"
   ]
  },
  {
   "cell_type": "code",
   "execution_count": 13,
   "metadata": {},
   "outputs": [
    {
     "output_type": "execute_result",
     "data": {
      "text/plain": "(936, 4)"
     },
     "metadata": {},
     "execution_count": 13
    }
   ],
   "source": [
    "users.drop_duplicates(keep='last').shape"
   ]
  },
  {
   "cell_type": "code",
   "execution_count": 14,
   "metadata": {},
   "outputs": [
    {
     "output_type": "execute_result",
     "data": {
      "text/plain": "(929, 4)"
     },
     "metadata": {},
     "execution_count": 14
    }
   ],
   "source": [
    "users.drop_duplicates(keep=False).shape"
   ]
  },
  {
   "cell_type": "code",
   "execution_count": 15,
   "metadata": {},
   "outputs": [
    {
     "output_type": "execute_result",
     "data": {
      "text/plain": "16"
     },
     "metadata": {},
     "execution_count": 15
    }
   ],
   "source": [
    "users.duplicated(subset=['age','zip_code']).sum()"
   ]
  },
  {
   "cell_type": "code",
   "execution_count": 16,
   "metadata": {},
   "outputs": [
    {
     "output_type": "execute_result",
     "data": {
      "text/plain": "         age gender  occupation zip_code\nuser_id                                 \n1         24      M  technician    85711\n2         53      F       other    94043\n3         23      M      writer    32067\n4         24      M  technician    43537\n5         33      F       other    15213",
      "text/html": "<div>\n<style scoped>\n    .dataframe tbody tr th:only-of-type {\n        vertical-align: middle;\n    }\n\n    .dataframe tbody tr th {\n        vertical-align: top;\n    }\n\n    .dataframe thead th {\n        text-align: right;\n    }\n</style>\n<table border=\"1\" class=\"dataframe\">\n  <thead>\n    <tr style=\"text-align: right;\">\n      <th></th>\n      <th>age</th>\n      <th>gender</th>\n      <th>occupation</th>\n      <th>zip_code</th>\n    </tr>\n    <tr>\n      <th>user_id</th>\n      <th></th>\n      <th></th>\n      <th></th>\n      <th></th>\n    </tr>\n  </thead>\n  <tbody>\n    <tr>\n      <th>1</th>\n      <td>24</td>\n      <td>M</td>\n      <td>technician</td>\n      <td>85711</td>\n    </tr>\n    <tr>\n      <th>2</th>\n      <td>53</td>\n      <td>F</td>\n      <td>other</td>\n      <td>94043</td>\n    </tr>\n    <tr>\n      <th>3</th>\n      <td>23</td>\n      <td>M</td>\n      <td>writer</td>\n      <td>32067</td>\n    </tr>\n    <tr>\n      <th>4</th>\n      <td>24</td>\n      <td>M</td>\n      <td>technician</td>\n      <td>43537</td>\n    </tr>\n    <tr>\n      <th>5</th>\n      <td>33</td>\n      <td>F</td>\n      <td>other</td>\n      <td>15213</td>\n    </tr>\n  </tbody>\n</table>\n</div>"
     },
     "metadata": {},
     "execution_count": 16
    }
   ],
   "source": [
    "users.drop_duplicates(subset=['age','zip_code']).head()"
   ]
  },
  {
   "cell_type": "code",
   "execution_count": 17,
   "metadata": {},
   "outputs": [
    {
     "output_type": "execute_result",
     "data": {
      "text/plain": "(927, 4)"
     },
     "metadata": {},
     "execution_count": 17
    }
   ],
   "source": [
    "users.drop_duplicates(subset=['age','zip_code']).shape"
   ]
  }
 ],
 "metadata": {
  "language_info": {
   "codemirror_mode": {
    "name": "ipython",
    "version": 3
   },
   "file_extension": ".py",
   "mimetype": "text/x-python",
   "name": "python",
   "nbconvert_exporter": "python",
   "pygments_lexer": "ipython3",
   "version": "3.8.2-final"
  },
  "orig_nbformat": 2,
  "kernelspec": {
   "name": "python38264bit3d15c6926d934a5e98310858fe52ace9",
   "display_name": "Python 3.8.2 64-bit"
  }
 },
 "nbformat": 4,
 "nbformat_minor": 2
}