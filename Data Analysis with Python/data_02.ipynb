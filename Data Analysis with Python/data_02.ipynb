{
 "cells": [
  {
   "cell_type": "markdown",
   "metadata": {},
   "source": [
    "# Select a Pandas Series from a DataFrame\n"
   ]
  },
  {
   "cell_type": "code",
   "execution_count": 1,
   "metadata": {},
   "outputs": [],
   "source": [
    "import pandas as pd"
   ]
  },
  {
   "cell_type": "code",
   "execution_count": 2,
   "metadata": {},
   "outputs": [
    {
     "output_type": "execute_result",
     "data": {
      "text/plain": "                   City Colors Reported Shape Reported State             Time\n0                Ithaca             NaN       TRIANGLE    NY   6/1/1930 22:00\n1           Willingboro             NaN          OTHER    NJ  6/30/1930 20:00\n2               Holyoke             NaN           OVAL    CO  2/15/1931 14:00\n3               Abilene             NaN           DISK    KS   6/1/1931 13:00\n4  New York Worlds Fair             NaN          LIGHT    NY  4/18/1933 19:00",
      "text/html": "<div>\n<style scoped>\n    .dataframe tbody tr th:only-of-type {\n        vertical-align: middle;\n    }\n\n    .dataframe tbody tr th {\n        vertical-align: top;\n    }\n\n    .dataframe thead th {\n        text-align: right;\n    }\n</style>\n<table border=\"1\" class=\"dataframe\">\n  <thead>\n    <tr style=\"text-align: right;\">\n      <th></th>\n      <th>City</th>\n      <th>Colors Reported</th>\n      <th>Shape Reported</th>\n      <th>State</th>\n      <th>Time</th>\n    </tr>\n  </thead>\n  <tbody>\n    <tr>\n      <th>0</th>\n      <td>Ithaca</td>\n      <td>NaN</td>\n      <td>TRIANGLE</td>\n      <td>NY</td>\n      <td>6/1/1930 22:00</td>\n    </tr>\n    <tr>\n      <th>1</th>\n      <td>Willingboro</td>\n      <td>NaN</td>\n      <td>OTHER</td>\n      <td>NJ</td>\n      <td>6/30/1930 20:00</td>\n    </tr>\n    <tr>\n      <th>2</th>\n      <td>Holyoke</td>\n      <td>NaN</td>\n      <td>OVAL</td>\n      <td>CO</td>\n      <td>2/15/1931 14:00</td>\n    </tr>\n    <tr>\n      <th>3</th>\n      <td>Abilene</td>\n      <td>NaN</td>\n      <td>DISK</td>\n      <td>KS</td>\n      <td>6/1/1931 13:00</td>\n    </tr>\n    <tr>\n      <th>4</th>\n      <td>New York Worlds Fair</td>\n      <td>NaN</td>\n      <td>LIGHT</td>\n      <td>NY</td>\n      <td>4/18/1933 19:00</td>\n    </tr>\n  </tbody>\n</table>\n</div>"
     },
     "metadata": {},
     "execution_count": 2
    }
   ],
   "source": [
    "ufo=pd.read_csv('http://bit.ly/uforeports')\n",
    "ufo.head()"
   ]
  },
  {
   "cell_type": "code",
   "execution_count": 3,
   "metadata": {},
   "outputs": [
    {
     "output_type": "execute_result",
     "data": {
      "text/plain": "0                      Ithaca\n1                 Willingboro\n2                     Holyoke\n3                     Abilene\n4        New York Worlds Fair\n                 ...         \n18236              Grant Park\n18237             Spirit Lake\n18238             Eagle River\n18239             Eagle River\n18240                    Ybor\nName: City, Length: 18241, dtype: object"
     },
     "metadata": {},
     "execution_count": 3
    }
   ],
   "source": [
    "ufo['City']"
   ]
  },
  {
   "cell_type": "code",
   "execution_count": 4,
   "metadata": {},
   "outputs": [
    {
     "output_type": "execute_result",
     "data": {
      "text/plain": "0                      Ithaca\n1                 Willingboro\n2                     Holyoke\n3                     Abilene\n4        New York Worlds Fair\n                 ...         \n18236              Grant Park\n18237             Spirit Lake\n18238             Eagle River\n18239             Eagle River\n18240                    Ybor\nName: City, Length: 18241, dtype: object"
     },
     "metadata": {},
     "execution_count": 4
    }
   ],
   "source": [
    "ufo.City"
   ]
  },
  {
   "cell_type": "code",
   "execution_count": 5,
   "metadata": {},
   "outputs": [
    {
     "output_type": "execute_result",
     "data": {
      "text/plain": "0        NaN\n1        NaN\n2        NaN\n3        NaN\n4        NaN\n        ... \n18236    NaN\n18237    NaN\n18238    NaN\n18239    RED\n18240    NaN\nName: Colors Reported, Length: 18241, dtype: object"
     },
     "metadata": {},
     "execution_count": 5
    }
   ],
   "source": [
    "ufo['Colors Reported']"
   ]
  },
  {
   "cell_type": "code",
   "execution_count": 6,
   "metadata": {},
   "outputs": [
    {
     "output_type": "execute_result",
     "data": {
      "text/plain": "(18241, 5)"
     },
     "metadata": {},
     "execution_count": 6
    }
   ],
   "source": [
    "ufo.shape"
   ]
  },
  {
   "cell_type": "code",
   "execution_count": 7,
   "metadata": {},
   "outputs": [
    {
     "output_type": "execute_result",
     "data": {
      "text/plain": "'abcd'"
     },
     "metadata": {},
     "execution_count": 7
    }
   ],
   "source": [
    "'ab'+'cd'"
   ]
  },
  {
   "cell_type": "code",
   "execution_count": 8,
   "metadata": {},
   "outputs": [
    {
     "output_type": "execute_result",
     "data": {
      "text/plain": "0                      IthacaNY\n1                 WillingboroNJ\n2                     HolyokeCO\n3                     AbileneKS\n4        New York Worlds FairNY\n                  ...          \n18236              Grant ParkIL\n18237             Spirit LakeIA\n18238             Eagle RiverWI\n18239             Eagle RiverWI\n18240                    YborFL\nLength: 18241, dtype: object"
     },
     "metadata": {},
     "execution_count": 8
    }
   ],
   "source": [
    "ufo.City+ufo.State"
   ]
  },
  {
   "cell_type": "code",
   "execution_count": 9,
   "metadata": {},
   "outputs": [
    {
     "output_type": "execute_result",
     "data": {
      "text/plain": "0                      Ithaca,NY\n1                 Willingboro,NJ\n2                     Holyoke,CO\n3                     Abilene,KS\n4        New York Worlds Fair,NY\n                  ...           \n18236              Grant Park,IL\n18237             Spirit Lake,IA\n18238             Eagle River,WI\n18239             Eagle River,WI\n18240                    Ybor,FL\nLength: 18241, dtype: object"
     },
     "metadata": {},
     "execution_count": 9
    }
   ],
   "source": [
    "ufo.City+','+ufo.State"
   ]
  },
  {
   "cell_type": "code",
   "execution_count": 10,
   "metadata": {},
   "outputs": [],
   "source": [
    "ufo['Location']=ufo.City+','+ufo.State"
   ]
  },
  {
   "cell_type": "code",
   "execution_count": 11,
   "metadata": {},
   "outputs": [
    {
     "output_type": "execute_result",
     "data": {
      "text/plain": "                   City Colors Reported Shape Reported State  \\\n0                Ithaca             NaN       TRIANGLE    NY   \n1           Willingboro             NaN          OTHER    NJ   \n2               Holyoke             NaN           OVAL    CO   \n3               Abilene             NaN           DISK    KS   \n4  New York Worlds Fair             NaN          LIGHT    NY   \n5           Valley City             NaN           DISK    ND   \n6           Crater Lake             NaN         CIRCLE    CA   \n7                  Alma             NaN           DISK    MI   \n8               Eklutna             NaN          CIGAR    AK   \n9               Hubbard             NaN       CYLINDER    OR   \n\n               Time                 Location  \n0    6/1/1930 22:00                Ithaca,NY  \n1   6/30/1930 20:00           Willingboro,NJ  \n2   2/15/1931 14:00               Holyoke,CO  \n3    6/1/1931 13:00               Abilene,KS  \n4   4/18/1933 19:00  New York Worlds Fair,NY  \n5   9/15/1934 15:30           Valley City,ND  \n6    6/15/1935 0:00           Crater Lake,CA  \n7    7/15/1936 0:00                  Alma,MI  \n8  10/15/1936 17:00               Eklutna,AK  \n9    6/15/1937 0:00               Hubbard,OR  ",
      "text/html": "<div>\n<style scoped>\n    .dataframe tbody tr th:only-of-type {\n        vertical-align: middle;\n    }\n\n    .dataframe tbody tr th {\n        vertical-align: top;\n    }\n\n    .dataframe thead th {\n        text-align: right;\n    }\n</style>\n<table border=\"1\" class=\"dataframe\">\n  <thead>\n    <tr style=\"text-align: right;\">\n      <th></th>\n      <th>City</th>\n      <th>Colors Reported</th>\n      <th>Shape Reported</th>\n      <th>State</th>\n      <th>Time</th>\n      <th>Location</th>\n    </tr>\n  </thead>\n  <tbody>\n    <tr>\n      <th>0</th>\n      <td>Ithaca</td>\n      <td>NaN</td>\n      <td>TRIANGLE</td>\n      <td>NY</td>\n      <td>6/1/1930 22:00</td>\n      <td>Ithaca,NY</td>\n    </tr>\n    <tr>\n      <th>1</th>\n      <td>Willingboro</td>\n      <td>NaN</td>\n      <td>OTHER</td>\n      <td>NJ</td>\n      <td>6/30/1930 20:00</td>\n      <td>Willingboro,NJ</td>\n    </tr>\n    <tr>\n      <th>2</th>\n      <td>Holyoke</td>\n      <td>NaN</td>\n      <td>OVAL</td>\n      <td>CO</td>\n      <td>2/15/1931 14:00</td>\n      <td>Holyoke,CO</td>\n    </tr>\n    <tr>\n      <th>3</th>\n      <td>Abilene</td>\n      <td>NaN</td>\n      <td>DISK</td>\n      <td>KS</td>\n      <td>6/1/1931 13:00</td>\n      <td>Abilene,KS</td>\n    </tr>\n    <tr>\n      <th>4</th>\n      <td>New York Worlds Fair</td>\n      <td>NaN</td>\n      <td>LIGHT</td>\n      <td>NY</td>\n      <td>4/18/1933 19:00</td>\n      <td>New York Worlds Fair,NY</td>\n    </tr>\n    <tr>\n      <th>5</th>\n      <td>Valley City</td>\n      <td>NaN</td>\n      <td>DISK</td>\n      <td>ND</td>\n      <td>9/15/1934 15:30</td>\n      <td>Valley City,ND</td>\n    </tr>\n    <tr>\n      <th>6</th>\n      <td>Crater Lake</td>\n      <td>NaN</td>\n      <td>CIRCLE</td>\n      <td>CA</td>\n      <td>6/15/1935 0:00</td>\n      <td>Crater Lake,CA</td>\n    </tr>\n    <tr>\n      <th>7</th>\n      <td>Alma</td>\n      <td>NaN</td>\n      <td>DISK</td>\n      <td>MI</td>\n      <td>7/15/1936 0:00</td>\n      <td>Alma,MI</td>\n    </tr>\n    <tr>\n      <th>8</th>\n      <td>Eklutna</td>\n      <td>NaN</td>\n      <td>CIGAR</td>\n      <td>AK</td>\n      <td>10/15/1936 17:00</td>\n      <td>Eklutna,AK</td>\n    </tr>\n    <tr>\n      <th>9</th>\n      <td>Hubbard</td>\n      <td>NaN</td>\n      <td>CYLINDER</td>\n      <td>OR</td>\n      <td>6/15/1937 0:00</td>\n      <td>Hubbard,OR</td>\n    </tr>\n  </tbody>\n</table>\n</div>"
     },
     "metadata": {},
     "execution_count": 11
    }
   ],
   "source": [
    "ufo.head(10)"
   ]
  }
 ],
 "metadata": {
  "language_info": {
   "codemirror_mode": {
    "name": "ipython",
    "version": 3
   },
   "file_extension": ".py",
   "mimetype": "text/x-python",
   "name": "python",
   "nbconvert_exporter": "python",
   "pygments_lexer": "ipython3",
   "version": "3.7.6-final"
  },
  "orig_nbformat": 2,
  "kernelspec": {
   "name": "python3",
   "display_name": "Python 3"
  }
 },
 "nbformat": 4,
 "nbformat_minor": 2
}