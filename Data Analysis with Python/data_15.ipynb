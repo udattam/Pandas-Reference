{
 "cells": [
  {
   "cell_type": "markdown",
   "metadata": {},
   "source": [
    "# Handle Missing Values"
   ]
  },
  {
   "cell_type": "code",
   "execution_count": 1,
   "metadata": {},
   "outputs": [],
   "source": [
    "import pandas as pd"
   ]
  },
  {
   "cell_type": "code",
   "execution_count": 2,
   "metadata": {},
   "outputs": [],
   "source": [
    "ufo=pd.read_csv('http://bit.ly/uforeports')"
   ]
  },
  {
   "cell_type": "code",
   "execution_count": 3,
   "metadata": {},
   "outputs": [
    {
     "output_type": "execute_result",
     "data": {
      "text/plain": "              City Colors Reported Shape Reported State              Time\n18236   Grant Park             NaN       TRIANGLE    IL  12/31/2000 23:00\n18237  Spirit Lake             NaN           DISK    IA  12/31/2000 23:00\n18238  Eagle River             NaN            NaN    WI  12/31/2000 23:45\n18239  Eagle River             RED          LIGHT    WI  12/31/2000 23:45\n18240         Ybor             NaN           OVAL    FL  12/31/2000 23:59",
      "text/html": "<div>\n<style scoped>\n    .dataframe tbody tr th:only-of-type {\n        vertical-align: middle;\n    }\n\n    .dataframe tbody tr th {\n        vertical-align: top;\n    }\n\n    .dataframe thead th {\n        text-align: right;\n    }\n</style>\n<table border=\"1\" class=\"dataframe\">\n  <thead>\n    <tr style=\"text-align: right;\">\n      <th></th>\n      <th>City</th>\n      <th>Colors Reported</th>\n      <th>Shape Reported</th>\n      <th>State</th>\n      <th>Time</th>\n    </tr>\n  </thead>\n  <tbody>\n    <tr>\n      <th>18236</th>\n      <td>Grant Park</td>\n      <td>NaN</td>\n      <td>TRIANGLE</td>\n      <td>IL</td>\n      <td>12/31/2000 23:00</td>\n    </tr>\n    <tr>\n      <th>18237</th>\n      <td>Spirit Lake</td>\n      <td>NaN</td>\n      <td>DISK</td>\n      <td>IA</td>\n      <td>12/31/2000 23:00</td>\n    </tr>\n    <tr>\n      <th>18238</th>\n      <td>Eagle River</td>\n      <td>NaN</td>\n      <td>NaN</td>\n      <td>WI</td>\n      <td>12/31/2000 23:45</td>\n    </tr>\n    <tr>\n      <th>18239</th>\n      <td>Eagle River</td>\n      <td>RED</td>\n      <td>LIGHT</td>\n      <td>WI</td>\n      <td>12/31/2000 23:45</td>\n    </tr>\n    <tr>\n      <th>18240</th>\n      <td>Ybor</td>\n      <td>NaN</td>\n      <td>OVAL</td>\n      <td>FL</td>\n      <td>12/31/2000 23:59</td>\n    </tr>\n  </tbody>\n</table>\n</div>"
     },
     "metadata": {},
     "execution_count": 3
    }
   ],
   "source": [
    "ufo.tail()"
   ]
  },
  {
   "cell_type": "code",
   "execution_count": 4,
   "metadata": {},
   "outputs": [
    {
     "output_type": "execute_result",
     "data": {
      "text/plain": "        City  Colors Reported  Shape Reported  State   Time\n18236  False             True           False  False  False\n18237  False             True           False  False  False\n18238  False             True            True  False  False\n18239  False            False           False  False  False\n18240  False             True           False  False  False",
      "text/html": "<div>\n<style scoped>\n    .dataframe tbody tr th:only-of-type {\n        vertical-align: middle;\n    }\n\n    .dataframe tbody tr th {\n        vertical-align: top;\n    }\n\n    .dataframe thead th {\n        text-align: right;\n    }\n</style>\n<table border=\"1\" class=\"dataframe\">\n  <thead>\n    <tr style=\"text-align: right;\">\n      <th></th>\n      <th>City</th>\n      <th>Colors Reported</th>\n      <th>Shape Reported</th>\n      <th>State</th>\n      <th>Time</th>\n    </tr>\n  </thead>\n  <tbody>\n    <tr>\n      <th>18236</th>\n      <td>False</td>\n      <td>True</td>\n      <td>False</td>\n      <td>False</td>\n      <td>False</td>\n    </tr>\n    <tr>\n      <th>18237</th>\n      <td>False</td>\n      <td>True</td>\n      <td>False</td>\n      <td>False</td>\n      <td>False</td>\n    </tr>\n    <tr>\n      <th>18238</th>\n      <td>False</td>\n      <td>True</td>\n      <td>True</td>\n      <td>False</td>\n      <td>False</td>\n    </tr>\n    <tr>\n      <th>18239</th>\n      <td>False</td>\n      <td>False</td>\n      <td>False</td>\n      <td>False</td>\n      <td>False</td>\n    </tr>\n    <tr>\n      <th>18240</th>\n      <td>False</td>\n      <td>True</td>\n      <td>False</td>\n      <td>False</td>\n      <td>False</td>\n    </tr>\n  </tbody>\n</table>\n</div>"
     },
     "metadata": {},
     "execution_count": 4
    }
   ],
   "source": [
    "ufo.isnull().tail()"
   ]
  },
  {
   "cell_type": "code",
   "execution_count": 5,
   "metadata": {},
   "outputs": [
    {
     "output_type": "execute_result",
     "data": {
      "text/plain": "                 City Colors Reported Shape Reported State              Time\n16        Los Angeles             NaN            NaN    CA    2/25/1942 0:00\n17          Hapeville             NaN            NaN    GA    6/1/1942 22:30\n21                NaN             NaN            NaN    LA    8/15/1943 0:00\n53             Minden             NaN            NaN    LA     6/1/1947 0:00\n56           Oroville             NaN            NaN    CA    6/1/1947 18:00\n...               ...             ...            ...   ...               ...\n18206      Cerrilillo             NaN            NaN    NM  12/28/2000 11:00\n18223      Greenville             NaN            NaN    SC  12/29/2000 22:00\n18232            Lodi             NaN            NaN    WI  12/31/2000 20:30\n18235  Fountain Hills             NaN            NaN    AZ  12/31/2000 23:00\n18238     Eagle River             NaN            NaN    WI  12/31/2000 23:45\n\n[2252 rows x 5 columns]",
      "text/html": "<div>\n<style scoped>\n    .dataframe tbody tr th:only-of-type {\n        vertical-align: middle;\n    }\n\n    .dataframe tbody tr th {\n        vertical-align: top;\n    }\n\n    .dataframe thead th {\n        text-align: right;\n    }\n</style>\n<table border=\"1\" class=\"dataframe\">\n  <thead>\n    <tr style=\"text-align: right;\">\n      <th></th>\n      <th>City</th>\n      <th>Colors Reported</th>\n      <th>Shape Reported</th>\n      <th>State</th>\n      <th>Time</th>\n    </tr>\n  </thead>\n  <tbody>\n    <tr>\n      <th>16</th>\n      <td>Los Angeles</td>\n      <td>NaN</td>\n      <td>NaN</td>\n      <td>CA</td>\n      <td>2/25/1942 0:00</td>\n    </tr>\n    <tr>\n      <th>17</th>\n      <td>Hapeville</td>\n      <td>NaN</td>\n      <td>NaN</td>\n      <td>GA</td>\n      <td>6/1/1942 22:30</td>\n    </tr>\n    <tr>\n      <th>21</th>\n      <td>NaN</td>\n      <td>NaN</td>\n      <td>NaN</td>\n      <td>LA</td>\n      <td>8/15/1943 0:00</td>\n    </tr>\n    <tr>\n      <th>53</th>\n      <td>Minden</td>\n      <td>NaN</td>\n      <td>NaN</td>\n      <td>LA</td>\n      <td>6/1/1947 0:00</td>\n    </tr>\n    <tr>\n      <th>56</th>\n      <td>Oroville</td>\n      <td>NaN</td>\n      <td>NaN</td>\n      <td>CA</td>\n      <td>6/1/1947 18:00</td>\n    </tr>\n    <tr>\n      <th>...</th>\n      <td>...</td>\n      <td>...</td>\n      <td>...</td>\n      <td>...</td>\n      <td>...</td>\n    </tr>\n    <tr>\n      <th>18206</th>\n      <td>Cerrilillo</td>\n      <td>NaN</td>\n      <td>NaN</td>\n      <td>NM</td>\n      <td>12/28/2000 11:00</td>\n    </tr>\n    <tr>\n      <th>18223</th>\n      <td>Greenville</td>\n      <td>NaN</td>\n      <td>NaN</td>\n      <td>SC</td>\n      <td>12/29/2000 22:00</td>\n    </tr>\n    <tr>\n      <th>18232</th>\n      <td>Lodi</td>\n      <td>NaN</td>\n      <td>NaN</td>\n      <td>WI</td>\n      <td>12/31/2000 20:30</td>\n    </tr>\n    <tr>\n      <th>18235</th>\n      <td>Fountain Hills</td>\n      <td>NaN</td>\n      <td>NaN</td>\n      <td>AZ</td>\n      <td>12/31/2000 23:00</td>\n    </tr>\n    <tr>\n      <th>18238</th>\n      <td>Eagle River</td>\n      <td>NaN</td>\n      <td>NaN</td>\n      <td>WI</td>\n      <td>12/31/2000 23:45</td>\n    </tr>\n  </tbody>\n</table>\n<p>2252 rows × 5 columns</p>\n</div>"
     },
     "metadata": {},
     "execution_count": 5
    }
   ],
   "source": [
    "import numpy as np\n",
    "ufo[np.logical_and(ufo['Colors Reported'].isnull(),ufo['Shape Reported'].isnull())]"
   ]
  },
  {
   "cell_type": "code",
   "execution_count": 6,
   "metadata": {},
   "outputs": [
    {
     "output_type": "execute_result",
     "data": {
      "text/plain": "       City  Colors Reported  Shape Reported  State  Time\n18236  True            False            True   True  True\n18237  True            False            True   True  True\n18238  True            False           False   True  True\n18239  True             True            True   True  True\n18240  True            False            True   True  True",
      "text/html": "<div>\n<style scoped>\n    .dataframe tbody tr th:only-of-type {\n        vertical-align: middle;\n    }\n\n    .dataframe tbody tr th {\n        vertical-align: top;\n    }\n\n    .dataframe thead th {\n        text-align: right;\n    }\n</style>\n<table border=\"1\" class=\"dataframe\">\n  <thead>\n    <tr style=\"text-align: right;\">\n      <th></th>\n      <th>City</th>\n      <th>Colors Reported</th>\n      <th>Shape Reported</th>\n      <th>State</th>\n      <th>Time</th>\n    </tr>\n  </thead>\n  <tbody>\n    <tr>\n      <th>18236</th>\n      <td>True</td>\n      <td>False</td>\n      <td>True</td>\n      <td>True</td>\n      <td>True</td>\n    </tr>\n    <tr>\n      <th>18237</th>\n      <td>True</td>\n      <td>False</td>\n      <td>True</td>\n      <td>True</td>\n      <td>True</td>\n    </tr>\n    <tr>\n      <th>18238</th>\n      <td>True</td>\n      <td>False</td>\n      <td>False</td>\n      <td>True</td>\n      <td>True</td>\n    </tr>\n    <tr>\n      <th>18239</th>\n      <td>True</td>\n      <td>True</td>\n      <td>True</td>\n      <td>True</td>\n      <td>True</td>\n    </tr>\n    <tr>\n      <th>18240</th>\n      <td>True</td>\n      <td>False</td>\n      <td>True</td>\n      <td>True</td>\n      <td>True</td>\n    </tr>\n  </tbody>\n</table>\n</div>"
     },
     "metadata": {},
     "execution_count": 6
    }
   ],
   "source": [
    "ufo.notnull().tail()"
   ]
  },
  {
   "cell_type": "code",
   "execution_count": 7,
   "metadata": {},
   "outputs": [
    {
     "output_type": "execute_result",
     "data": {
      "text/plain": "City                  25\nColors Reported    15359\nShape Reported      2644\nState                  0\nTime                   0\ndtype: int64"
     },
     "metadata": {},
     "execution_count": 7
    }
   ],
   "source": [
    "ufo.isnull().sum()"
   ]
  },
  {
   "cell_type": "code",
   "execution_count": 8,
   "metadata": {},
   "outputs": [
    {
     "output_type": "execute_result",
     "data": {
      "text/plain": "2"
     },
     "metadata": {},
     "execution_count": 8
    }
   ],
   "source": [
    "pd.Series([True,False,True]).sum()"
   ]
  },
  {
   "cell_type": "code",
   "execution_count": 9,
   "metadata": {},
   "outputs": [
    {
     "output_type": "execute_result",
     "data": {
      "text/plain": "      City Colors Reported Shape Reported State              Time\n21     NaN             NaN            NaN    LA    8/15/1943 0:00\n22     NaN             NaN          LIGHT    LA    8/15/1943 0:00\n204    NaN             NaN           DISK    CA   7/15/1952 12:30\n241    NaN            BLUE           DISK    MT    7/4/1953 14:00\n613    NaN             NaN           DISK    NV    7/1/1960 12:00\n1877   NaN          YELLOW         CIRCLE    AZ    8/15/1969 1:00\n2013   NaN             NaN            NaN    NH     8/1/1970 9:30\n2546   NaN             NaN       FIREBALL    OH  10/25/1973 23:30\n3123   NaN             RED       TRIANGLE    WV  11/25/1975 23:00\n4736   NaN             NaN         SPHERE    CA   6/23/1982 23:00\n5269   NaN             NaN            NaN    AZ   6/30/1985 21:30\n6735   NaN             NaN      FORMATION    TX     4/1/1992 2:00\n7208   NaN             NaN         CIRCLE    MI   10/4/1993 17:30\n8828   NaN             NaN       TRIANGLE    WA  10/30/1995 21:30\n8967   NaN             NaN        VARIOUS    CA   12/8/1995 18:00\n9273   NaN             NaN       TRIANGLE    OH     5/1/1996 3:00\n9388   NaN             NaN           OVAL    CA   6/12/1996 12:00\n9587   NaN             NaN            EGG    FL   8/24/1996 15:00\n10399  NaN             NaN       TRIANGLE    IL   6/15/1997 23:00\n11625  NaN             NaN         CIRCLE    TX     6/7/1998 7:00\n12441  NaN             RED       FIREBALL    WA  10/26/1998 17:58\n15767  NaN             NaN      RECTANGLE    NV   1/21/2000 11:30\n15812  NaN             NaN          LIGHT    NV     2/2/2000 3:00\n16054  NaN           GREEN            NaN    FL    3/11/2000 3:30\n16608  NaN             NaN         SPHERE    NY   6/15/2000 15:00",
      "text/html": "<div>\n<style scoped>\n    .dataframe tbody tr th:only-of-type {\n        vertical-align: middle;\n    }\n\n    .dataframe tbody tr th {\n        vertical-align: top;\n    }\n\n    .dataframe thead th {\n        text-align: right;\n    }\n</style>\n<table border=\"1\" class=\"dataframe\">\n  <thead>\n    <tr style=\"text-align: right;\">\n      <th></th>\n      <th>City</th>\n      <th>Colors Reported</th>\n      <th>Shape Reported</th>\n      <th>State</th>\n      <th>Time</th>\n    </tr>\n  </thead>\n  <tbody>\n    <tr>\n      <th>21</th>\n      <td>NaN</td>\n      <td>NaN</td>\n      <td>NaN</td>\n      <td>LA</td>\n      <td>8/15/1943 0:00</td>\n    </tr>\n    <tr>\n      <th>22</th>\n      <td>NaN</td>\n      <td>NaN</td>\n      <td>LIGHT</td>\n      <td>LA</td>\n      <td>8/15/1943 0:00</td>\n    </tr>\n    <tr>\n      <th>204</th>\n      <td>NaN</td>\n      <td>NaN</td>\n      <td>DISK</td>\n      <td>CA</td>\n      <td>7/15/1952 12:30</td>\n    </tr>\n    <tr>\n      <th>241</th>\n      <td>NaN</td>\n      <td>BLUE</td>\n      <td>DISK</td>\n      <td>MT</td>\n      <td>7/4/1953 14:00</td>\n    </tr>\n    <tr>\n      <th>613</th>\n      <td>NaN</td>\n      <td>NaN</td>\n      <td>DISK</td>\n      <td>NV</td>\n      <td>7/1/1960 12:00</td>\n    </tr>\n    <tr>\n      <th>1877</th>\n      <td>NaN</td>\n      <td>YELLOW</td>\n      <td>CIRCLE</td>\n      <td>AZ</td>\n      <td>8/15/1969 1:00</td>\n    </tr>\n    <tr>\n      <th>2013</th>\n      <td>NaN</td>\n      <td>NaN</td>\n      <td>NaN</td>\n      <td>NH</td>\n      <td>8/1/1970 9:30</td>\n    </tr>\n    <tr>\n      <th>2546</th>\n      <td>NaN</td>\n      <td>NaN</td>\n      <td>FIREBALL</td>\n      <td>OH</td>\n      <td>10/25/1973 23:30</td>\n    </tr>\n    <tr>\n      <th>3123</th>\n      <td>NaN</td>\n      <td>RED</td>\n      <td>TRIANGLE</td>\n      <td>WV</td>\n      <td>11/25/1975 23:00</td>\n    </tr>\n    <tr>\n      <th>4736</th>\n      <td>NaN</td>\n      <td>NaN</td>\n      <td>SPHERE</td>\n      <td>CA</td>\n      <td>6/23/1982 23:00</td>\n    </tr>\n    <tr>\n      <th>5269</th>\n      <td>NaN</td>\n      <td>NaN</td>\n      <td>NaN</td>\n      <td>AZ</td>\n      <td>6/30/1985 21:30</td>\n    </tr>\n    <tr>\n      <th>6735</th>\n      <td>NaN</td>\n      <td>NaN</td>\n      <td>FORMATION</td>\n      <td>TX</td>\n      <td>4/1/1992 2:00</td>\n    </tr>\n    <tr>\n      <th>7208</th>\n      <td>NaN</td>\n      <td>NaN</td>\n      <td>CIRCLE</td>\n      <td>MI</td>\n      <td>10/4/1993 17:30</td>\n    </tr>\n    <tr>\n      <th>8828</th>\n      <td>NaN</td>\n      <td>NaN</td>\n      <td>TRIANGLE</td>\n      <td>WA</td>\n      <td>10/30/1995 21:30</td>\n    </tr>\n    <tr>\n      <th>8967</th>\n      <td>NaN</td>\n      <td>NaN</td>\n      <td>VARIOUS</td>\n      <td>CA</td>\n      <td>12/8/1995 18:00</td>\n    </tr>\n    <tr>\n      <th>9273</th>\n      <td>NaN</td>\n      <td>NaN</td>\n      <td>TRIANGLE</td>\n      <td>OH</td>\n      <td>5/1/1996 3:00</td>\n    </tr>\n    <tr>\n      <th>9388</th>\n      <td>NaN</td>\n      <td>NaN</td>\n      <td>OVAL</td>\n      <td>CA</td>\n      <td>6/12/1996 12:00</td>\n    </tr>\n    <tr>\n      <th>9587</th>\n      <td>NaN</td>\n      <td>NaN</td>\n      <td>EGG</td>\n      <td>FL</td>\n      <td>8/24/1996 15:00</td>\n    </tr>\n    <tr>\n      <th>10399</th>\n      <td>NaN</td>\n      <td>NaN</td>\n      <td>TRIANGLE</td>\n      <td>IL</td>\n      <td>6/15/1997 23:00</td>\n    </tr>\n    <tr>\n      <th>11625</th>\n      <td>NaN</td>\n      <td>NaN</td>\n      <td>CIRCLE</td>\n      <td>TX</td>\n      <td>6/7/1998 7:00</td>\n    </tr>\n    <tr>\n      <th>12441</th>\n      <td>NaN</td>\n      <td>RED</td>\n      <td>FIREBALL</td>\n      <td>WA</td>\n      <td>10/26/1998 17:58</td>\n    </tr>\n    <tr>\n      <th>15767</th>\n      <td>NaN</td>\n      <td>NaN</td>\n      <td>RECTANGLE</td>\n      <td>NV</td>\n      <td>1/21/2000 11:30</td>\n    </tr>\n    <tr>\n      <th>15812</th>\n      <td>NaN</td>\n      <td>NaN</td>\n      <td>LIGHT</td>\n      <td>NV</td>\n      <td>2/2/2000 3:00</td>\n    </tr>\n    <tr>\n      <th>16054</th>\n      <td>NaN</td>\n      <td>GREEN</td>\n      <td>NaN</td>\n      <td>FL</td>\n      <td>3/11/2000 3:30</td>\n    </tr>\n    <tr>\n      <th>16608</th>\n      <td>NaN</td>\n      <td>NaN</td>\n      <td>SPHERE</td>\n      <td>NY</td>\n      <td>6/15/2000 15:00</td>\n    </tr>\n  </tbody>\n</table>\n</div>"
     },
     "metadata": {},
     "execution_count": 9
    }
   ],
   "source": [
    "ufo[ufo.City.isnull()]"
   ]
  },
  {
   "cell_type": "code",
   "execution_count": 10,
   "metadata": {},
   "outputs": [
    {
     "output_type": "execute_result",
     "data": {
      "text/plain": "(18241, 5)"
     },
     "metadata": {},
     "execution_count": 10
    }
   ],
   "source": [
    "ufo.shape"
   ]
  },
  {
   "cell_type": "code",
   "execution_count": 11,
   "metadata": {},
   "outputs": [
    {
     "output_type": "execute_result",
     "data": {
      "text/plain": "(2486, 5)"
     },
     "metadata": {},
     "execution_count": 11
    }
   ],
   "source": [
    "ufo.dropna(how='any').shape"
   ]
  },
  {
   "cell_type": "code",
   "execution_count": 12,
   "metadata": {},
   "outputs": [
    {
     "output_type": "execute_result",
     "data": {
      "text/plain": "(18241, 5)"
     },
     "metadata": {},
     "execution_count": 12
    }
   ],
   "source": [
    "ufo.shape"
   ]
  },
  {
   "cell_type": "code",
   "execution_count": 13,
   "metadata": {},
   "outputs": [
    {
     "output_type": "execute_result",
     "data": {
      "text/plain": "(18241, 5)"
     },
     "metadata": {},
     "execution_count": 13
    }
   ],
   "source": [
    "ufo.dropna(how='all').shape"
   ]
  },
  {
   "cell_type": "code",
   "execution_count": 14,
   "metadata": {},
   "outputs": [
    {
     "output_type": "execute_result",
     "data": {
      "text/plain": "(15576, 5)"
     },
     "metadata": {},
     "execution_count": 14
    }
   ],
   "source": [
    "ufo.dropna(subset=['City','Shape Reported'],how='any').shape"
   ]
  },
  {
   "cell_type": "code",
   "execution_count": 15,
   "metadata": {},
   "outputs": [
    {
     "output_type": "execute_result",
     "data": {
      "text/plain": "(18237, 5)"
     },
     "metadata": {},
     "execution_count": 15
    }
   ],
   "source": [
    "ufo.dropna(subset=['City','Shape Reported'],how='all').shape"
   ]
  },
  {
   "cell_type": "code",
   "execution_count": 16,
   "metadata": {},
   "outputs": [
    {
     "output_type": "execute_result",
     "data": {
      "text/plain": "LIGHT        2803\nNaN          2644\nDISK         2122\nTRIANGLE     1889\nOTHER        1402\nCIRCLE       1365\nSPHERE       1054\nFIREBALL     1039\nOVAL          845\nCIGAR         617\nFORMATION     434\nVARIOUS       333\nRECTANGLE     303\nCYLINDER      294\nCHEVRON       248\nDIAMOND       234\nEGG           197\nFLASH         188\nTEARDROP      119\nCONE           60\nCROSS          36\nDELTA           7\nROUND           2\nCRESCENT        2\nFLARE           1\nHEXAGON         1\nPYRAMID         1\nDOME            1\nName: Shape Reported, dtype: int64"
     },
     "metadata": {},
     "execution_count": 16
    }
   ],
   "source": [
    "ufo['Shape Reported'].value_counts(dropna=False)"
   ]
  },
  {
   "cell_type": "code",
   "execution_count": 17,
   "metadata": {},
   "outputs": [],
   "source": [
    "ufo['Shape Reported'].fillna(value='MULTIPLE',inplace=True)"
   ]
  },
  {
   "cell_type": "code",
   "execution_count": 18,
   "metadata": {},
   "outputs": [
    {
     "output_type": "execute_result",
     "data": {
      "text/plain": "LIGHT        2803\nMULTIPLE     2644\nDISK         2122\nTRIANGLE     1889\nOTHER        1402\nCIRCLE       1365\nSPHERE       1054\nFIREBALL     1039\nOVAL          845\nCIGAR         617\nFORMATION     434\nVARIOUS       333\nRECTANGLE     303\nCYLINDER      294\nCHEVRON       248\nDIAMOND       234\nEGG           197\nFLASH         188\nTEARDROP      119\nCONE           60\nCROSS          36\nDELTA           7\nROUND           2\nCRESCENT        2\nPYRAMID         1\nHEXAGON         1\nFLARE           1\nDOME            1\nName: Shape Reported, dtype: int64"
     },
     "metadata": {},
     "execution_count": 18
    }
   ],
   "source": [
    "ufo['Shape Reported'].value_counts(dropna=False)"
   ]
  }
 ],
 "metadata": {
  "language_info": {
   "codemirror_mode": {
    "name": "ipython",
    "version": 3
   },
   "file_extension": ".py",
   "mimetype": "text/x-python",
   "name": "python",
   "nbconvert_exporter": "python",
   "pygments_lexer": "ipython3",
   "version": "3.8.2-final"
  },
  "orig_nbformat": 2,
  "kernelspec": {
   "name": "python38264bit3d15c6926d934a5e98310858fe52ace9",
   "display_name": "Python 3.8.2 64-bit"
  }
 },
 "nbformat": 4,
 "nbformat_minor": 2
}