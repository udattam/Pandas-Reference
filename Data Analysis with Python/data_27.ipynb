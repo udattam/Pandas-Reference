{
 "cells": [
  {
   "cell_type": "code",
   "execution_count": 1,
   "metadata": {},
   "outputs": [],
   "source": [
    "import pandas as pd"
   ]
  },
  {
   "cell_type": "code",
   "execution_count": 2,
   "metadata": {},
   "outputs": [],
   "source": [
    "stocks=pd.read_csv('https://bit.ly/smallstocks')"
   ]
  },
  {
   "cell_type": "code",
   "execution_count": 3,
   "metadata": {},
   "outputs": [
    {
     "output_type": "execute_result",
     "data": {
      "text/plain": "         Date   Close    Volume Symbol\n0  2016-10-03   31.50  14070500   CSCO\n1  2016-10-03  112.52  21701800   AAPL\n2  2016-10-03   57.42  19189500   MSFT\n3  2016-10-04  113.00  29736800   AAPL\n4  2016-10-04   57.24  20085900   MSFT\n5  2016-10-04   31.35  18460400   CSCO\n6  2016-10-05   57.64  16726400   MSFT\n7  2016-10-05   31.59  11808600   CSCO\n8  2016-10-05  113.05  21453100   AAPL",
      "text/html": "<div>\n<style scoped>\n    .dataframe tbody tr th:only-of-type {\n        vertical-align: middle;\n    }\n\n    .dataframe tbody tr th {\n        vertical-align: top;\n    }\n\n    .dataframe thead th {\n        text-align: right;\n    }\n</style>\n<table border=\"1\" class=\"dataframe\">\n  <thead>\n    <tr style=\"text-align: right;\">\n      <th></th>\n      <th>Date</th>\n      <th>Close</th>\n      <th>Volume</th>\n      <th>Symbol</th>\n    </tr>\n  </thead>\n  <tbody>\n    <tr>\n      <th>0</th>\n      <td>2016-10-03</td>\n      <td>31.50</td>\n      <td>14070500</td>\n      <td>CSCO</td>\n    </tr>\n    <tr>\n      <th>1</th>\n      <td>2016-10-03</td>\n      <td>112.52</td>\n      <td>21701800</td>\n      <td>AAPL</td>\n    </tr>\n    <tr>\n      <th>2</th>\n      <td>2016-10-03</td>\n      <td>57.42</td>\n      <td>19189500</td>\n      <td>MSFT</td>\n    </tr>\n    <tr>\n      <th>3</th>\n      <td>2016-10-04</td>\n      <td>113.00</td>\n      <td>29736800</td>\n      <td>AAPL</td>\n    </tr>\n    <tr>\n      <th>4</th>\n      <td>2016-10-04</td>\n      <td>57.24</td>\n      <td>20085900</td>\n      <td>MSFT</td>\n    </tr>\n    <tr>\n      <th>5</th>\n      <td>2016-10-04</td>\n      <td>31.35</td>\n      <td>18460400</td>\n      <td>CSCO</td>\n    </tr>\n    <tr>\n      <th>6</th>\n      <td>2016-10-05</td>\n      <td>57.64</td>\n      <td>16726400</td>\n      <td>MSFT</td>\n    </tr>\n    <tr>\n      <th>7</th>\n      <td>2016-10-05</td>\n      <td>31.59</td>\n      <td>11808600</td>\n      <td>CSCO</td>\n    </tr>\n    <tr>\n      <th>8</th>\n      <td>2016-10-05</td>\n      <td>113.05</td>\n      <td>21453100</td>\n      <td>AAPL</td>\n    </tr>\n  </tbody>\n</table>\n</div>"
     },
     "metadata": {},
     "execution_count": 3
    }
   ],
   "source": [
    "stocks"
   ]
  },
  {
   "cell_type": "code",
   "execution_count": 4,
   "metadata": {},
   "outputs": [
    {
     "output_type": "execute_result",
     "data": {
      "text/plain": "RangeIndex(start=0, stop=9, step=1)"
     },
     "metadata": {},
     "execution_count": 4
    }
   ],
   "source": [
    "stocks.index"
   ]
  },
  {
   "cell_type": "code",
   "execution_count": 5,
   "metadata": {},
   "outputs": [
    {
     "output_type": "execute_result",
     "data": {
      "text/plain": "Symbol\nAAPL    112.856667\nCSCO     31.480000\nMSFT     57.433333\nName: Close, dtype: float64"
     },
     "metadata": {},
     "execution_count": 5
    }
   ],
   "source": [
    "stocks.groupby('Symbol').Close.mean()"
   ]
  },
  {
   "cell_type": "code",
   "execution_count": 8,
   "metadata": {},
   "outputs": [],
   "source": [
    "ser=stocks.groupby(['Symbol','Date']).Close.mean()"
   ]
  },
  {
   "cell_type": "code",
   "execution_count": 9,
   "metadata": {},
   "outputs": [
    {
     "output_type": "execute_result",
     "data": {
      "text/plain": "MultiIndex([('AAPL', '2016-10-03'),\n            ('AAPL', '2016-10-04'),\n            ('AAPL', '2016-10-05'),\n            ('CSCO', '2016-10-03'),\n            ('CSCO', '2016-10-04'),\n            ('CSCO', '2016-10-05'),\n            ('MSFT', '2016-10-03'),\n            ('MSFT', '2016-10-04'),\n            ('MSFT', '2016-10-05')],\n           names=['Symbol', 'Date'])"
     },
     "metadata": {},
     "execution_count": 9
    }
   ],
   "source": [
    "ser.index"
   ]
  },
  {
   "cell_type": "code",
   "execution_count": 10,
   "metadata": {},
   "outputs": [
    {
     "output_type": "execute_result",
     "data": {
      "text/plain": "Date    2016-10-03  2016-10-04  2016-10-05\nSymbol                                    \nAAPL        112.52      113.00      113.05\nCSCO         31.50       31.35       31.59\nMSFT         57.42       57.24       57.64",
      "text/html": "<div>\n<style scoped>\n    .dataframe tbody tr th:only-of-type {\n        vertical-align: middle;\n    }\n\n    .dataframe tbody tr th {\n        vertical-align: top;\n    }\n\n    .dataframe thead th {\n        text-align: right;\n    }\n</style>\n<table border=\"1\" class=\"dataframe\">\n  <thead>\n    <tr style=\"text-align: right;\">\n      <th>Date</th>\n      <th>2016-10-03</th>\n      <th>2016-10-04</th>\n      <th>2016-10-05</th>\n    </tr>\n    <tr>\n      <th>Symbol</th>\n      <th></th>\n      <th></th>\n      <th></th>\n    </tr>\n  </thead>\n  <tbody>\n    <tr>\n      <th>AAPL</th>\n      <td>112.52</td>\n      <td>113.00</td>\n      <td>113.05</td>\n    </tr>\n    <tr>\n      <th>CSCO</th>\n      <td>31.50</td>\n      <td>31.35</td>\n      <td>31.59</td>\n    </tr>\n    <tr>\n      <th>MSFT</th>\n      <td>57.42</td>\n      <td>57.24</td>\n      <td>57.64</td>\n    </tr>\n  </tbody>\n</table>\n</div>"
     },
     "metadata": {},
     "execution_count": 10
    }
   ],
   "source": [
    "ser.unstack()"
   ]
  },
  {
   "cell_type": "code",
   "execution_count": 14,
   "metadata": {},
   "outputs": [],
   "source": [
    "df=stocks.pivot_table(values='Close',index='Symbol',columns='Date')"
   ]
  },
  {
   "cell_type": "code",
   "execution_count": 15,
   "metadata": {},
   "outputs": [
    {
     "output_type": "execute_result",
     "data": {
      "text/plain": "Date    2016-10-03  2016-10-04  2016-10-05\nSymbol                                    \nAAPL        112.52      113.00      113.05\nCSCO         31.50       31.35       31.59\nMSFT         57.42       57.24       57.64",
      "text/html": "<div>\n<style scoped>\n    .dataframe tbody tr th:only-of-type {\n        vertical-align: middle;\n    }\n\n    .dataframe tbody tr th {\n        vertical-align: top;\n    }\n\n    .dataframe thead th {\n        text-align: right;\n    }\n</style>\n<table border=\"1\" class=\"dataframe\">\n  <thead>\n    <tr style=\"text-align: right;\">\n      <th>Date</th>\n      <th>2016-10-03</th>\n      <th>2016-10-04</th>\n      <th>2016-10-05</th>\n    </tr>\n    <tr>\n      <th>Symbol</th>\n      <th></th>\n      <th></th>\n      <th></th>\n    </tr>\n  </thead>\n  <tbody>\n    <tr>\n      <th>AAPL</th>\n      <td>112.52</td>\n      <td>113.00</td>\n      <td>113.05</td>\n    </tr>\n    <tr>\n      <th>CSCO</th>\n      <td>31.50</td>\n      <td>31.35</td>\n      <td>31.59</td>\n    </tr>\n    <tr>\n      <th>MSFT</th>\n      <td>57.42</td>\n      <td>57.24</td>\n      <td>57.64</td>\n    </tr>\n  </tbody>\n</table>\n</div>"
     },
     "metadata": {},
     "execution_count": 15
    }
   ],
   "source": [
    "df"
   ]
  }
 ],
 "metadata": {
  "language_info": {
   "codemirror_mode": {
    "name": "ipython",
    "version": 3
   },
   "file_extension": ".py",
   "mimetype": "text/x-python",
   "name": "python",
   "nbconvert_exporter": "python",
   "pygments_lexer": "ipython3",
   "version": "3.8.2-final"
  },
  "orig_nbformat": 2,
  "kernelspec": {
   "name": "python38264bit3d15c6926d934a5e98310858fe52ace9",
   "display_name": "Python 3.8.2 64-bit"
  }
 },
 "nbformat": 4,
 "nbformat_minor": 2
}