{
 "cells": [
  {
   "cell_type": "markdown",
   "metadata": {},
   "source": [
    "# Create DataFrame from Object"
   ]
  },
  {
   "cell_type": "code",
   "execution_count": 1,
   "metadata": {},
   "outputs": [],
   "source": [
    "import pandas as pd"
   ]
  },
  {
   "cell_type": "code",
   "execution_count": 2,
   "metadata": {},
   "outputs": [],
   "source": [
    "df=pd.DataFrame({'id':[100,101,102],'color':['red','blue','green']},columns=['color','id'],index=['a','b','c'])"
   ]
  },
  {
   "cell_type": "code",
   "execution_count": 3,
   "metadata": {},
   "outputs": [
    {
     "output_type": "execute_result",
     "data": {
      "text/plain": "    id  color\n0  100    red\n1  101   blue\n2  102  green",
      "text/html": "<div>\n<style scoped>\n    .dataframe tbody tr th:only-of-type {\n        vertical-align: middle;\n    }\n\n    .dataframe tbody tr th {\n        vertical-align: top;\n    }\n\n    .dataframe thead th {\n        text-align: right;\n    }\n</style>\n<table border=\"1\" class=\"dataframe\">\n  <thead>\n    <tr style=\"text-align: right;\">\n      <th></th>\n      <th>id</th>\n      <th>color</th>\n    </tr>\n  </thead>\n  <tbody>\n    <tr>\n      <th>0</th>\n      <td>100</td>\n      <td>red</td>\n    </tr>\n    <tr>\n      <th>1</th>\n      <td>101</td>\n      <td>blue</td>\n    </tr>\n    <tr>\n      <th>2</th>\n      <td>102</td>\n      <td>green</td>\n    </tr>\n  </tbody>\n</table>\n</div>"
     },
     "metadata": {},
     "execution_count": 3
    }
   ],
   "source": [
    "pd.DataFrame([[100,'red'],[101,'blue'],[102,'green']],columns=['id','color'])"
   ]
  },
  {
   "cell_type": "code",
   "execution_count": 4,
   "metadata": {},
   "outputs": [],
   "source": [
    "import numpy as np"
   ]
  },
  {
   "cell_type": "code",
   "execution_count": 5,
   "metadata": {},
   "outputs": [],
   "source": [
    "arr=np.random.rand(4,2)"
   ]
  },
  {
   "cell_type": "code",
   "execution_count": 6,
   "metadata": {},
   "outputs": [
    {
     "output_type": "execute_result",
     "data": {
      "text/plain": "array([[0.3217969 , 0.12779473],\n       [0.21216875, 0.2254381 ],\n       [0.43048316, 0.12575197],\n       [0.33941082, 0.70739987]])"
     },
     "metadata": {},
     "execution_count": 6
    }
   ],
   "source": [
    "arr"
   ]
  },
  {
   "cell_type": "code",
   "execution_count": 7,
   "metadata": {},
   "outputs": [
    {
     "output_type": "execute_result",
     "data": {
      "text/plain": "        one       two\n0  0.321797  0.127795\n1  0.212169  0.225438\n2  0.430483  0.125752\n3  0.339411  0.707400",
      "text/html": "<div>\n<style scoped>\n    .dataframe tbody tr th:only-of-type {\n        vertical-align: middle;\n    }\n\n    .dataframe tbody tr th {\n        vertical-align: top;\n    }\n\n    .dataframe thead th {\n        text-align: right;\n    }\n</style>\n<table border=\"1\" class=\"dataframe\">\n  <thead>\n    <tr style=\"text-align: right;\">\n      <th></th>\n      <th>one</th>\n      <th>two</th>\n    </tr>\n  </thead>\n  <tbody>\n    <tr>\n      <th>0</th>\n      <td>0.321797</td>\n      <td>0.127795</td>\n    </tr>\n    <tr>\n      <th>1</th>\n      <td>0.212169</td>\n      <td>0.225438</td>\n    </tr>\n    <tr>\n      <th>2</th>\n      <td>0.430483</td>\n      <td>0.125752</td>\n    </tr>\n    <tr>\n      <th>3</th>\n      <td>0.339411</td>\n      <td>0.707400</td>\n    </tr>\n  </tbody>\n</table>\n</div>"
     },
     "metadata": {},
     "execution_count": 7
    }
   ],
   "source": [
    "pd.DataFrame(arr,columns=['one','two'])"
   ]
  },
  {
   "cell_type": "code",
   "execution_count": 8,
   "metadata": {},
   "outputs": [
    {
     "output_type": "execute_result",
     "data": {
      "text/plain": "   student  test\n0      100    98\n1      101    83\n2      102    88\n3      103    92\n4      104    66\n5      105    97\n6      106    72\n7      107    93\n8      108    72\n9      109    80",
      "text/html": "<div>\n<style scoped>\n    .dataframe tbody tr th:only-of-type {\n        vertical-align: middle;\n    }\n\n    .dataframe tbody tr th {\n        vertical-align: top;\n    }\n\n    .dataframe thead th {\n        text-align: right;\n    }\n</style>\n<table border=\"1\" class=\"dataframe\">\n  <thead>\n    <tr style=\"text-align: right;\">\n      <th></th>\n      <th>student</th>\n      <th>test</th>\n    </tr>\n  </thead>\n  <tbody>\n    <tr>\n      <th>0</th>\n      <td>100</td>\n      <td>98</td>\n    </tr>\n    <tr>\n      <th>1</th>\n      <td>101</td>\n      <td>83</td>\n    </tr>\n    <tr>\n      <th>2</th>\n      <td>102</td>\n      <td>88</td>\n    </tr>\n    <tr>\n      <th>3</th>\n      <td>103</td>\n      <td>92</td>\n    </tr>\n    <tr>\n      <th>4</th>\n      <td>104</td>\n      <td>66</td>\n    </tr>\n    <tr>\n      <th>5</th>\n      <td>105</td>\n      <td>97</td>\n    </tr>\n    <tr>\n      <th>6</th>\n      <td>106</td>\n      <td>72</td>\n    </tr>\n    <tr>\n      <th>7</th>\n      <td>107</td>\n      <td>93</td>\n    </tr>\n    <tr>\n      <th>8</th>\n      <td>108</td>\n      <td>72</td>\n    </tr>\n    <tr>\n      <th>9</th>\n      <td>109</td>\n      <td>80</td>\n    </tr>\n  </tbody>\n</table>\n</div>"
     },
     "metadata": {},
     "execution_count": 8
    }
   ],
   "source": [
    "pd.DataFrame({'student':np.arange(100,110,1),'test':np.random.randint(60,101,10)})"
   ]
  },
  {
   "cell_type": "code",
   "execution_count": 9,
   "metadata": {},
   "outputs": [
    {
     "output_type": "execute_result",
     "data": {
      "text/plain": "         test\nstudent      \n100        90\n101       100\n102        91\n103        90\n104        86\n105        64\n106        68\n107        96\n108        60\n109        96",
      "text/html": "<div>\n<style scoped>\n    .dataframe tbody tr th:only-of-type {\n        vertical-align: middle;\n    }\n\n    .dataframe tbody tr th {\n        vertical-align: top;\n    }\n\n    .dataframe thead th {\n        text-align: right;\n    }\n</style>\n<table border=\"1\" class=\"dataframe\">\n  <thead>\n    <tr style=\"text-align: right;\">\n      <th></th>\n      <th>test</th>\n    </tr>\n    <tr>\n      <th>student</th>\n      <th></th>\n    </tr>\n  </thead>\n  <tbody>\n    <tr>\n      <th>100</th>\n      <td>90</td>\n    </tr>\n    <tr>\n      <th>101</th>\n      <td>100</td>\n    </tr>\n    <tr>\n      <th>102</th>\n      <td>91</td>\n    </tr>\n    <tr>\n      <th>103</th>\n      <td>90</td>\n    </tr>\n    <tr>\n      <th>104</th>\n      <td>86</td>\n    </tr>\n    <tr>\n      <th>105</th>\n      <td>64</td>\n    </tr>\n    <tr>\n      <th>106</th>\n      <td>68</td>\n    </tr>\n    <tr>\n      <th>107</th>\n      <td>96</td>\n    </tr>\n    <tr>\n      <th>108</th>\n      <td>60</td>\n    </tr>\n    <tr>\n      <th>109</th>\n      <td>96</td>\n    </tr>\n  </tbody>\n</table>\n</div>"
     },
     "metadata": {},
     "execution_count": 9
    }
   ],
   "source": [
    "pd.DataFrame({'student':np.arange(100,110,1),'test':np.random.randint(60,101,10)}).set_index('student')"
   ]
  },
  {
   "cell_type": "code",
   "execution_count": 10,
   "metadata": {},
   "outputs": [
    {
     "output_type": "execute_result",
     "data": {
      "text/plain": "c     round\nb    square\nName: shape, dtype: object"
     },
     "metadata": {},
     "execution_count": 10
    }
   ],
   "source": [
    "s= pd.Series(['round','square'],index=['c','b'],name='shape')\n",
    "s"
   ]
  },
  {
   "cell_type": "code",
   "execution_count": 11,
   "metadata": {},
   "outputs": [
    {
     "output_type": "execute_result",
     "data": {
      "text/plain": "   color   id\na    red  100\nb   blue  101\nc  green  102",
      "text/html": "<div>\n<style scoped>\n    .dataframe tbody tr th:only-of-type {\n        vertical-align: middle;\n    }\n\n    .dataframe tbody tr th {\n        vertical-align: top;\n    }\n\n    .dataframe thead th {\n        text-align: right;\n    }\n</style>\n<table border=\"1\" class=\"dataframe\">\n  <thead>\n    <tr style=\"text-align: right;\">\n      <th></th>\n      <th>color</th>\n      <th>id</th>\n    </tr>\n  </thead>\n  <tbody>\n    <tr>\n      <th>a</th>\n      <td>red</td>\n      <td>100</td>\n    </tr>\n    <tr>\n      <th>b</th>\n      <td>blue</td>\n      <td>101</td>\n    </tr>\n    <tr>\n      <th>c</th>\n      <td>green</td>\n      <td>102</td>\n    </tr>\n  </tbody>\n</table>\n</div>"
     },
     "metadata": {},
     "execution_count": 11
    }
   ],
   "source": [
    "df"
   ]
  },
  {
   "cell_type": "code",
   "execution_count": 12,
   "metadata": {},
   "outputs": [
    {
     "output_type": "execute_result",
     "data": {
      "text/plain": "   color   id   shape\na    red  100     NaN\nb   blue  101  square\nc  green  102   round",
      "text/html": "<div>\n<style scoped>\n    .dataframe tbody tr th:only-of-type {\n        vertical-align: middle;\n    }\n\n    .dataframe tbody tr th {\n        vertical-align: top;\n    }\n\n    .dataframe thead th {\n        text-align: right;\n    }\n</style>\n<table border=\"1\" class=\"dataframe\">\n  <thead>\n    <tr style=\"text-align: right;\">\n      <th></th>\n      <th>color</th>\n      <th>id</th>\n      <th>shape</th>\n    </tr>\n  </thead>\n  <tbody>\n    <tr>\n      <th>a</th>\n      <td>red</td>\n      <td>100</td>\n      <td>NaN</td>\n    </tr>\n    <tr>\n      <th>b</th>\n      <td>blue</td>\n      <td>101</td>\n      <td>square</td>\n    </tr>\n    <tr>\n      <th>c</th>\n      <td>green</td>\n      <td>102</td>\n      <td>round</td>\n    </tr>\n  </tbody>\n</table>\n</div>"
     },
     "metadata": {},
     "execution_count": 12
    }
   ],
   "source": [
    "pd.concat([df,s],axis=1)"
   ]
  }
 ],
 "metadata": {
  "language_info": {
   "codemirror_mode": {
    "name": "ipython",
    "version": 3
   },
   "file_extension": ".py",
   "mimetype": "text/x-python",
   "name": "python",
   "nbconvert_exporter": "python",
   "pygments_lexer": "ipython3",
   "version": "3.8.2-final"
  },
  "orig_nbformat": 2,
  "kernelspec": {
   "name": "python38264bit3d15c6926d934a5e98310858fe52ace9",
   "display_name": "Python 3.8.2 64-bit"
  }
 },
 "nbformat": 4,
 "nbformat_minor": 2
}