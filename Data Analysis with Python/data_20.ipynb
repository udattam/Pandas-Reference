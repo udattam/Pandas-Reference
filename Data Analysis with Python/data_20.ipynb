{
 "cells": [
  {
   "cell_type": "markdown",
   "metadata": {},
   "source": [
    "# Miscellaneous"
   ]
  },
  {
   "cell_type": "markdown",
   "metadata": {},
   "source": [
    "## Read documentation\n",
    "### Google what you want and go to the result according to your version \n",
    "### [Pandas API](https://pandas.pydata.org/pandas-docs/stable/reference/index.html)"
   ]
  },
  {
   "cell_type": "code",
   "execution_count": 1,
   "metadata": {},
   "outputs": [],
   "source": [
    "import pandas as pd"
   ]
  },
  {
   "cell_type": "code",
   "execution_count": 2,
   "metadata": {},
   "outputs": [],
   "source": [
    "ufo=pd.read_csv('http://bit.ly/uforeports')"
   ]
  },
  {
   "cell_type": "code",
   "execution_count": 3,
   "metadata": {},
   "outputs": [
    {
     "output_type": "execute_result",
     "data": {
      "text/plain": "    City  Colors Reported  Shape Reported  State   Time\n0  False             True           False  False  False\n1  False             True           False  False  False\n2  False             True           False  False  False\n3  False             True           False  False  False\n4  False             True           False  False  False",
      "text/html": "<div>\n<style scoped>\n    .dataframe tbody tr th:only-of-type {\n        vertical-align: middle;\n    }\n\n    .dataframe tbody tr th {\n        vertical-align: top;\n    }\n\n    .dataframe thead th {\n        text-align: right;\n    }\n</style>\n<table border=\"1\" class=\"dataframe\">\n  <thead>\n    <tr style=\"text-align: right;\">\n      <th></th>\n      <th>City</th>\n      <th>Colors Reported</th>\n      <th>Shape Reported</th>\n      <th>State</th>\n      <th>Time</th>\n    </tr>\n  </thead>\n  <tbody>\n    <tr>\n      <th>0</th>\n      <td>False</td>\n      <td>True</td>\n      <td>False</td>\n      <td>False</td>\n      <td>False</td>\n    </tr>\n    <tr>\n      <th>1</th>\n      <td>False</td>\n      <td>True</td>\n      <td>False</td>\n      <td>False</td>\n      <td>False</td>\n    </tr>\n    <tr>\n      <th>2</th>\n      <td>False</td>\n      <td>True</td>\n      <td>False</td>\n      <td>False</td>\n      <td>False</td>\n    </tr>\n    <tr>\n      <th>3</th>\n      <td>False</td>\n      <td>True</td>\n      <td>False</td>\n      <td>False</td>\n      <td>False</td>\n    </tr>\n    <tr>\n      <th>4</th>\n      <td>False</td>\n      <td>True</td>\n      <td>False</td>\n      <td>False</td>\n      <td>False</td>\n    </tr>\n  </tbody>\n</table>\n</div>"
     },
     "metadata": {},
     "execution_count": 3
    }
   ],
   "source": [
    "pd.isnull(ufo).head()"
   ]
  },
  {
   "cell_type": "code",
   "execution_count": 4,
   "metadata": {},
   "outputs": [
    {
     "output_type": "execute_result",
     "data": {
      "text/plain": "    City  Colors Reported  Shape Reported  State   Time\n0  False             True           False  False  False\n1  False             True           False  False  False\n2  False             True           False  False  False\n3  False             True           False  False  False\n4  False             True           False  False  False",
      "text/html": "<div>\n<style scoped>\n    .dataframe tbody tr th:only-of-type {\n        vertical-align: middle;\n    }\n\n    .dataframe tbody tr th {\n        vertical-align: top;\n    }\n\n    .dataframe thead th {\n        text-align: right;\n    }\n</style>\n<table border=\"1\" class=\"dataframe\">\n  <thead>\n    <tr style=\"text-align: right;\">\n      <th></th>\n      <th>City</th>\n      <th>Colors Reported</th>\n      <th>Shape Reported</th>\n      <th>State</th>\n      <th>Time</th>\n    </tr>\n  </thead>\n  <tbody>\n    <tr>\n      <th>0</th>\n      <td>False</td>\n      <td>True</td>\n      <td>False</td>\n      <td>False</td>\n      <td>False</td>\n    </tr>\n    <tr>\n      <th>1</th>\n      <td>False</td>\n      <td>True</td>\n      <td>False</td>\n      <td>False</td>\n      <td>False</td>\n    </tr>\n    <tr>\n      <th>2</th>\n      <td>False</td>\n      <td>True</td>\n      <td>False</td>\n      <td>False</td>\n      <td>False</td>\n    </tr>\n    <tr>\n      <th>3</th>\n      <td>False</td>\n      <td>True</td>\n      <td>False</td>\n      <td>False</td>\n      <td>False</td>\n    </tr>\n    <tr>\n      <th>4</th>\n      <td>False</td>\n      <td>True</td>\n      <td>False</td>\n      <td>False</td>\n      <td>False</td>\n    </tr>\n  </tbody>\n</table>\n</div>"
     },
     "metadata": {},
     "execution_count": 4
    }
   ],
   "source": [
    "ufo.isnull().head()"
   ]
  },
  {
   "cell_type": "code",
   "execution_count": 5,
   "metadata": {},
   "outputs": [
    {
     "output_type": "execute_result",
     "data": {
      "text/plain": "                City Colors Reported Shape Reported State             Time\n5696    Indianapolis             RED          LIGHT    IN    8/1/1987 0:00\n2750   North Windham             NaN           DISK    ME   8/23/1974 2:30\n14964   Cedar Rapids             NaN       TEARDROP    IA  10/28/1999 4:47",
      "text/html": "<div>\n<style scoped>\n    .dataframe tbody tr th:only-of-type {\n        vertical-align: middle;\n    }\n\n    .dataframe tbody tr th {\n        vertical-align: top;\n    }\n\n    .dataframe thead th {\n        text-align: right;\n    }\n</style>\n<table border=\"1\" class=\"dataframe\">\n  <thead>\n    <tr style=\"text-align: right;\">\n      <th></th>\n      <th>City</th>\n      <th>Colors Reported</th>\n      <th>Shape Reported</th>\n      <th>State</th>\n      <th>Time</th>\n    </tr>\n  </thead>\n  <tbody>\n    <tr>\n      <th>5696</th>\n      <td>Indianapolis</td>\n      <td>RED</td>\n      <td>LIGHT</td>\n      <td>IN</td>\n      <td>8/1/1987 0:00</td>\n    </tr>\n    <tr>\n      <th>2750</th>\n      <td>North Windham</td>\n      <td>NaN</td>\n      <td>DISK</td>\n      <td>ME</td>\n      <td>8/23/1974 2:30</td>\n    </tr>\n    <tr>\n      <th>14964</th>\n      <td>Cedar Rapids</td>\n      <td>NaN</td>\n      <td>TEARDROP</td>\n      <td>IA</td>\n      <td>10/28/1999 4:47</td>\n    </tr>\n  </tbody>\n</table>\n</div>"
     },
     "metadata": {},
     "execution_count": 5
    }
   ],
   "source": [
    "ufo.sample(n=3)"
   ]
  },
  {
   "cell_type": "code",
   "execution_count": 6,
   "metadata": {},
   "outputs": [
    {
     "output_type": "execute_result",
     "data": {
      "text/plain": "               City Colors Reported Shape Reported State              Time\n217    Norridgewock             NaN           DISK    ME   9/15/1952 14:00\n12282         Ipava             NaN       TRIANGLE    IL   10/1/1998 21:15\n17933     Ellinwood             NaN       FIREBALL    KS  11/13/2000 22:00",
      "text/html": "<div>\n<style scoped>\n    .dataframe tbody tr th:only-of-type {\n        vertical-align: middle;\n    }\n\n    .dataframe tbody tr th {\n        vertical-align: top;\n    }\n\n    .dataframe thead th {\n        text-align: right;\n    }\n</style>\n<table border=\"1\" class=\"dataframe\">\n  <thead>\n    <tr style=\"text-align: right;\">\n      <th></th>\n      <th>City</th>\n      <th>Colors Reported</th>\n      <th>Shape Reported</th>\n      <th>State</th>\n      <th>Time</th>\n    </tr>\n  </thead>\n  <tbody>\n    <tr>\n      <th>217</th>\n      <td>Norridgewock</td>\n      <td>NaN</td>\n      <td>DISK</td>\n      <td>ME</td>\n      <td>9/15/1952 14:00</td>\n    </tr>\n    <tr>\n      <th>12282</th>\n      <td>Ipava</td>\n      <td>NaN</td>\n      <td>TRIANGLE</td>\n      <td>IL</td>\n      <td>10/1/1998 21:15</td>\n    </tr>\n    <tr>\n      <th>17933</th>\n      <td>Ellinwood</td>\n      <td>NaN</td>\n      <td>FIREBALL</td>\n      <td>KS</td>\n      <td>11/13/2000 22:00</td>\n    </tr>\n  </tbody>\n</table>\n</div>"
     },
     "metadata": {},
     "execution_count": 6
    }
   ],
   "source": [
    "ufo.sample(n=3,random_state=42)"
   ]
  },
  {
   "cell_type": "code",
   "execution_count": 7,
   "metadata": {},
   "outputs": [
    {
     "output_type": "execute_result",
     "data": {
      "text/plain": "               City Colors Reported Shape Reported State              Time\n217    Norridgewock             NaN           DISK    ME   9/15/1952 14:00\n12282         Ipava             NaN       TRIANGLE    IL   10/1/1998 21:15\n17933     Ellinwood             NaN       FIREBALL    KS  11/13/2000 22:00",
      "text/html": "<div>\n<style scoped>\n    .dataframe tbody tr th:only-of-type {\n        vertical-align: middle;\n    }\n\n    .dataframe tbody tr th {\n        vertical-align: top;\n    }\n\n    .dataframe thead th {\n        text-align: right;\n    }\n</style>\n<table border=\"1\" class=\"dataframe\">\n  <thead>\n    <tr style=\"text-align: right;\">\n      <th></th>\n      <th>City</th>\n      <th>Colors Reported</th>\n      <th>Shape Reported</th>\n      <th>State</th>\n      <th>Time</th>\n    </tr>\n  </thead>\n  <tbody>\n    <tr>\n      <th>217</th>\n      <td>Norridgewock</td>\n      <td>NaN</td>\n      <td>DISK</td>\n      <td>ME</td>\n      <td>9/15/1952 14:00</td>\n    </tr>\n    <tr>\n      <th>12282</th>\n      <td>Ipava</td>\n      <td>NaN</td>\n      <td>TRIANGLE</td>\n      <td>IL</td>\n      <td>10/1/1998 21:15</td>\n    </tr>\n    <tr>\n      <th>17933</th>\n      <td>Ellinwood</td>\n      <td>NaN</td>\n      <td>FIREBALL</td>\n      <td>KS</td>\n      <td>11/13/2000 22:00</td>\n    </tr>\n  </tbody>\n</table>\n</div>"
     },
     "metadata": {},
     "execution_count": 7
    }
   ],
   "source": [
    "ufo.sample(n=3,random_state=42)"
   ]
  },
  {
   "cell_type": "code",
   "execution_count": 8,
   "metadata": {},
   "outputs": [
    {
     "output_type": "execute_result",
     "data": {
      "text/plain": "              City Colors Reported Shape Reported State              Time\n5974     Charlotte           GREEN       TRIANGLE    MI  10/17/1988 23:00\n13556         Troy             NaN          CIGAR    OH   5/27/1999 13:45\n2284       Wayland             NaN          LIGHT    MA   7/21/1972 22:00\n8143   East Aurora             NaN            NaN    IL   5/24/1995 21:00\n15604         Keys             NaN        VARIOUS    CA  12/31/1999 23:48\n...            ...             ...            ...   ...               ...\n7283      Whittier             NaN         CIRCLE    CA   3/10/1994 18:00\n14769   Munds Park             NaN           CONE    AZ   10/8/1999 21:00\n13944   Naperville             NaN          LIGHT    IL    7/15/1999 2:00\n2566          Kent             NaN          CIGAR    WA     1/1/1974 1:00\n1518     Chiloquin             NaN           DISK    OR   9/15/1967 19:30\n\n[4560 rows x 5 columns]",
      "text/html": "<div>\n<style scoped>\n    .dataframe tbody tr th:only-of-type {\n        vertical-align: middle;\n    }\n\n    .dataframe tbody tr th {\n        vertical-align: top;\n    }\n\n    .dataframe thead th {\n        text-align: right;\n    }\n</style>\n<table border=\"1\" class=\"dataframe\">\n  <thead>\n    <tr style=\"text-align: right;\">\n      <th></th>\n      <th>City</th>\n      <th>Colors Reported</th>\n      <th>Shape Reported</th>\n      <th>State</th>\n      <th>Time</th>\n    </tr>\n  </thead>\n  <tbody>\n    <tr>\n      <th>5974</th>\n      <td>Charlotte</td>\n      <td>GREEN</td>\n      <td>TRIANGLE</td>\n      <td>MI</td>\n      <td>10/17/1988 23:00</td>\n    </tr>\n    <tr>\n      <th>13556</th>\n      <td>Troy</td>\n      <td>NaN</td>\n      <td>CIGAR</td>\n      <td>OH</td>\n      <td>5/27/1999 13:45</td>\n    </tr>\n    <tr>\n      <th>2284</th>\n      <td>Wayland</td>\n      <td>NaN</td>\n      <td>LIGHT</td>\n      <td>MA</td>\n      <td>7/21/1972 22:00</td>\n    </tr>\n    <tr>\n      <th>8143</th>\n      <td>East Aurora</td>\n      <td>NaN</td>\n      <td>NaN</td>\n      <td>IL</td>\n      <td>5/24/1995 21:00</td>\n    </tr>\n    <tr>\n      <th>15604</th>\n      <td>Keys</td>\n      <td>NaN</td>\n      <td>VARIOUS</td>\n      <td>CA</td>\n      <td>12/31/1999 23:48</td>\n    </tr>\n    <tr>\n      <th>...</th>\n      <td>...</td>\n      <td>...</td>\n      <td>...</td>\n      <td>...</td>\n      <td>...</td>\n    </tr>\n    <tr>\n      <th>7283</th>\n      <td>Whittier</td>\n      <td>NaN</td>\n      <td>CIRCLE</td>\n      <td>CA</td>\n      <td>3/10/1994 18:00</td>\n    </tr>\n    <tr>\n      <th>14769</th>\n      <td>Munds Park</td>\n      <td>NaN</td>\n      <td>CONE</td>\n      <td>AZ</td>\n      <td>10/8/1999 21:00</td>\n    </tr>\n    <tr>\n      <th>13944</th>\n      <td>Naperville</td>\n      <td>NaN</td>\n      <td>LIGHT</td>\n      <td>IL</td>\n      <td>7/15/1999 2:00</td>\n    </tr>\n    <tr>\n      <th>2566</th>\n      <td>Kent</td>\n      <td>NaN</td>\n      <td>CIGAR</td>\n      <td>WA</td>\n      <td>1/1/1974 1:00</td>\n    </tr>\n    <tr>\n      <th>1518</th>\n      <td>Chiloquin</td>\n      <td>NaN</td>\n      <td>DISK</td>\n      <td>OR</td>\n      <td>9/15/1967 19:30</td>\n    </tr>\n  </tbody>\n</table>\n<p>4560 rows × 5 columns</p>\n</div>"
     },
     "metadata": {},
     "execution_count": 8
    }
   ],
   "source": [
    "ufo.sample(frac=0.25,random_state=53)"
   ]
  },
  {
   "cell_type": "code",
   "execution_count": 9,
   "metadata": {},
   "outputs": [],
   "source": [
    "train=ufo.sample(frac=0.25,random_state=53)"
   ]
  },
  {
   "cell_type": "code",
   "execution_count": 10,
   "metadata": {},
   "outputs": [],
   "source": [
    "test=ufo.loc[~ufo.index.isin(train.index),:]"
   ]
  },
  {
   "cell_type": "code",
   "execution_count": 11,
   "metadata": {},
   "outputs": [
    {
     "output_type": "execute_result",
     "data": {
      "text/plain": "                 City Colors Reported Shape Reported State              Time\n0              Ithaca             NaN       TRIANGLE    NY    6/1/1930 22:00\n1         Willingboro             NaN          OTHER    NJ   6/30/1930 20:00\n2             Holyoke             NaN           OVAL    CO   2/15/1931 14:00\n3             Abilene             NaN           DISK    KS    6/1/1931 13:00\n5         Valley City             NaN           DISK    ND   9/15/1934 15:30\n...               ...             ...            ...   ...               ...\n18235  Fountain Hills             NaN            NaN    AZ  12/31/2000 23:00\n18236      Grant Park             NaN       TRIANGLE    IL  12/31/2000 23:00\n18237     Spirit Lake             NaN           DISK    IA  12/31/2000 23:00\n18238     Eagle River             NaN            NaN    WI  12/31/2000 23:45\n18240            Ybor             NaN           OVAL    FL  12/31/2000 23:59\n\n[13681 rows x 5 columns]",
      "text/html": "<div>\n<style scoped>\n    .dataframe tbody tr th:only-of-type {\n        vertical-align: middle;\n    }\n\n    .dataframe tbody tr th {\n        vertical-align: top;\n    }\n\n    .dataframe thead th {\n        text-align: right;\n    }\n</style>\n<table border=\"1\" class=\"dataframe\">\n  <thead>\n    <tr style=\"text-align: right;\">\n      <th></th>\n      <th>City</th>\n      <th>Colors Reported</th>\n      <th>Shape Reported</th>\n      <th>State</th>\n      <th>Time</th>\n    </tr>\n  </thead>\n  <tbody>\n    <tr>\n      <th>0</th>\n      <td>Ithaca</td>\n      <td>NaN</td>\n      <td>TRIANGLE</td>\n      <td>NY</td>\n      <td>6/1/1930 22:00</td>\n    </tr>\n    <tr>\n      <th>1</th>\n      <td>Willingboro</td>\n      <td>NaN</td>\n      <td>OTHER</td>\n      <td>NJ</td>\n      <td>6/30/1930 20:00</td>\n    </tr>\n    <tr>\n      <th>2</th>\n      <td>Holyoke</td>\n      <td>NaN</td>\n      <td>OVAL</td>\n      <td>CO</td>\n      <td>2/15/1931 14:00</td>\n    </tr>\n    <tr>\n      <th>3</th>\n      <td>Abilene</td>\n      <td>NaN</td>\n      <td>DISK</td>\n      <td>KS</td>\n      <td>6/1/1931 13:00</td>\n    </tr>\n    <tr>\n      <th>5</th>\n      <td>Valley City</td>\n      <td>NaN</td>\n      <td>DISK</td>\n      <td>ND</td>\n      <td>9/15/1934 15:30</td>\n    </tr>\n    <tr>\n      <th>...</th>\n      <td>...</td>\n      <td>...</td>\n      <td>...</td>\n      <td>...</td>\n      <td>...</td>\n    </tr>\n    <tr>\n      <th>18235</th>\n      <td>Fountain Hills</td>\n      <td>NaN</td>\n      <td>NaN</td>\n      <td>AZ</td>\n      <td>12/31/2000 23:00</td>\n    </tr>\n    <tr>\n      <th>18236</th>\n      <td>Grant Park</td>\n      <td>NaN</td>\n      <td>TRIANGLE</td>\n      <td>IL</td>\n      <td>12/31/2000 23:00</td>\n    </tr>\n    <tr>\n      <th>18237</th>\n      <td>Spirit Lake</td>\n      <td>NaN</td>\n      <td>DISK</td>\n      <td>IA</td>\n      <td>12/31/2000 23:00</td>\n    </tr>\n    <tr>\n      <th>18238</th>\n      <td>Eagle River</td>\n      <td>NaN</td>\n      <td>NaN</td>\n      <td>WI</td>\n      <td>12/31/2000 23:45</td>\n    </tr>\n    <tr>\n      <th>18240</th>\n      <td>Ybor</td>\n      <td>NaN</td>\n      <td>OVAL</td>\n      <td>FL</td>\n      <td>12/31/2000 23:59</td>\n    </tr>\n  </tbody>\n</table>\n<p>13681 rows × 5 columns</p>\n</div>"
     },
     "metadata": {},
     "execution_count": 11
    }
   ],
   "source": [
    "test"
   ]
  }
 ],
 "metadata": {
  "language_info": {
   "codemirror_mode": {
    "name": "ipython",
    "version": 3
   },
   "file_extension": ".py",
   "mimetype": "text/x-python",
   "name": "python",
   "nbconvert_exporter": "python",
   "pygments_lexer": "ipython3",
   "version": "3.8.2-final"
  },
  "orig_nbformat": 2,
  "kernelspec": {
   "name": "python38264bit3d15c6926d934a5e98310858fe52ace9",
   "display_name": "Python 3.8.2 64-bit"
  }
 },
 "nbformat": 4,
 "nbformat_minor": 2
}